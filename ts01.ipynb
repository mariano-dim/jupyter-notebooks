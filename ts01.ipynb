{
  "cells": [
    {
      "metadata": {
        "trusted": true
      },
      "cell_type": "code",
      "source": "import tensorflow as tf\n",
      "execution_count": 57,
      "outputs": []
    },
    {
      "metadata": {
        "trusted": true
      },
      "cell_type": "code",
      "source": "print(tf.__version__)",
      "execution_count": 58,
      "outputs": [
        {
          "output_type": "stream",
          "text": "2.0.0-beta1\n",
          "name": "stdout"
        }
      ]
    },
    {
      "metadata": {},
      "cell_type": "markdown",
      "source": "#### Construct a `Session` and execute the graph ."
    },
    {
      "metadata": {
        "trusted": true
      },
      "cell_type": "code",
      "source": "with tf.compat.v1.Session() as sess:\n    a = tf.constant(7, name=\"input_a\")\n    b = tf.constant(3, name=\"input_b\")\n    c = tf.add(a, b, name=\"add_c\")\n    d = tf.multiply(a, b, name=\"mul_d\")\n    e = tf.add(c, d, name=\"add_e\")\n    \n    result = sess.run(e)\n    print(result)\n",
      "execution_count": 59,
      "outputs": [
        {
          "output_type": "stream",
          "text": "31\n",
          "name": "stdout"
        }
      ]
    },
    {
      "metadata": {},
      "cell_type": "markdown",
      "source": "    #### Como se ejecuta un board en azure?\n    # writer = tf.summary.FileWriter(\"/tmp/modeloGraph\", sess.graph)\n    # writer.close()"
    },
    {
      "metadata": {
        "trusted": true
      },
      "cell_type": "code",
      "source": "",
      "execution_count": null,
      "outputs": []
    }
  ],
  "metadata": {
    "kernelspec": {
      "name": "python36",
      "display_name": "Python 3.6",
      "language": "python"
    },
    "language_info": {
      "mimetype": "text/x-python",
      "nbconvert_exporter": "python",
      "name": "python",
      "pygments_lexer": "ipython3",
      "version": "3.6.6",
      "file_extension": ".py",
      "codemirror_mode": {
        "version": 3,
        "name": "ipython"
      }
    }
  },
  "nbformat": 4,
  "nbformat_minor": 2
}