{
  "cells": [
    {
      "metadata": {
        "trusted": true
      },
      "cell_type": "code",
      "source": "import tensorflow.compat.v1 as tf\n\ntf.disable_v2_behavior()\n",
      "execution_count": 36,
      "outputs": []
    },
    {
      "metadata": {},
      "cell_type": "markdown",
      "source": "##y = -2x+6"
    },
    {
      "metadata": {
        "trusted": true
      },
      "cell_type": "code",
      "source": "w = tf.Variable([-2], tf.int32)\nb = tf.Variable([6], tf.int32)\n",
      "execution_count": 37,
      "outputs": []
    },
    {
      "metadata": {
        "trusted": true
      },
      "cell_type": "code",
      "source": "x = tf.placeholder(tf.int32)\ny = w*x  + b",
      "execution_count": 38,
      "outputs": []
    },
    {
      "metadata": {
        "trusted": true
      },
      "cell_type": "code",
      "source": "print(\" w\", w)\nprint(\" b\", b)\nprint(\" x\", x)\nprint(\" y\", y)",
      "execution_count": 39,
      "outputs": [
        {
          "output_type": "stream",
          "text": " w <tf.Variable 'Variable_6:0' shape=(1,) dtype=int32_ref>\n b <tf.Variable 'Variable_7:0' shape=(1,) dtype=int32_ref>\n x Tensor(\"Placeholder_3:0\", dtype=int32)\n y Tensor(\"add_3:0\", dtype=int32)\n",
          "name": "stdout"
        }
      ]
    },
    {
      "metadata": {
        "trusted": true
      },
      "cell_type": "code",
      "source": "sess = tf.Session()\n",
      "execution_count": 40,
      "outputs": []
    },
    {
      "metadata": {
        "trusted": true
      },
      "cell_type": "code",
      "source": "sess.run(tf.global_variables_initializer())\n",
      "execution_count": 41,
      "outputs": []
    },
    {
      "metadata": {
        "trusted": true
      },
      "cell_type": "code",
      "source": "x_value = {x: [1,2,3,4]}\n",
      "execution_count": 42,
      "outputs": []
    },
    {
      "metadata": {
        "trusted": true
      },
      "cell_type": "code",
      "source": "print(\"Resultado y\", sess.run(y, feed_dict= x_value))",
      "execution_count": 43,
      "outputs": [
        {
          "output_type": "stream",
          "text": "Resultado y [ 4  2  0 -2]\n",
          "name": "stdout"
        }
      ]
    },
    {
      "metadata": {
        "trusted": true
      },
      "cell_type": "code",
      "source": "",
      "execution_count": null,
      "outputs": []
    }
  ],
  "metadata": {
    "kernelspec": {
      "name": "python36",
      "display_name": "Python 3.6",
      "language": "python"
    },
    "language_info": {
      "mimetype": "text/x-python",
      "nbconvert_exporter": "python",
      "name": "python",
      "pygments_lexer": "ipython3",
      "version": "3.6.6",
      "file_extension": ".py",
      "codemirror_mode": {
        "version": 3,
        "name": "ipython"
      }
    }
  },
  "nbformat": 4,
  "nbformat_minor": 2
}